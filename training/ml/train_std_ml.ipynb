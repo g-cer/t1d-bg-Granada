{
 "cells": [
  {
   "cell_type": "code",
   "execution_count": null,
   "id": "82cca093",
   "metadata": {},
   "outputs": [],
   "source": [
    "from training.ml.train_std_ml import *\n",
    "\n",
    "# from cuml.ensemble import RandomForestRegressor"
   ]
  },
  {
   "cell_type": "code",
   "execution_count": null,
   "id": "06fb11aa",
   "metadata": {},
   "outputs": [],
   "source": [
    "# Simulazione degli argomenti per il notebook\n",
    "class Args:\n",
    "    def __init__(self):\n",
    "        self.output_path = \"outputs/val_set\"\n",
    "        self.models_path = \"models/val_set\"\n",
    "        self.exp_name = \"xgb\"  # Cambia qui: \"lgb\", \"xgb\", \"rf\"\n",
    "        self.seed = 42\n",
    "\n",
    "\n",
    "args = Args()\n",
    "\n",
    "# Verifica i parametri\n",
    "print(f\"Configurazione:\")\n",
    "print(f\"  - Model: {args.exp_name}\")\n",
    "print(f\"  - Output path: {args.output_path}\")\n",
    "print(f\"  - Models path: {args.models_path}\")\n",
    "print(f\"  - Seed: {args.seed}\")"
   ]
  },
  {
   "cell_type": "code",
   "execution_count": null,
   "id": "6bb2fbb0",
   "metadata": {},
   "outputs": [],
   "source": [
    "print(f\"Starting {args.exp_name.upper()} training pipeline...\")\n",
    "\n",
    "# Setup\n",
    "os.makedirs(args.output_path, exist_ok=True)\n",
    "os.makedirs(args.models_path, exist_ok=True)"
   ]
  },
  {
   "cell_type": "code",
   "execution_count": null,
   "id": "4acf1e53",
   "metadata": {},
   "outputs": [],
   "source": [
    "# Load data\n",
    "print(\"Loading pre-prepared data splits...\")\n",
    "train_set, val_set, test_set, X_cols, y_cols = load_splits()"
   ]
  },
  {
   "cell_type": "code",
   "execution_count": null,
   "id": "fbd15725",
   "metadata": {},
   "outputs": [],
   "source": [
    "# Create and train model\n",
    "print(f\"Creating and training {args.exp_name.upper()} model...\")\n",
    "model = create_model(args.exp_name, args.seed)\n",
    "model.fit(train_set[X_cols], train_set[y_cols[-1]])"
   ]
  },
  {
   "cell_type": "code",
   "execution_count": null,
   "id": "f6445f89",
   "metadata": {},
   "outputs": [],
   "source": [
    "# Save model\n",
    "model_path = f\"{args.models_path}/{args.exp_name}.pickle\"\n",
    "save_model(model, model_path)"
   ]
  },
  {
   "cell_type": "code",
   "execution_count": null,
   "id": "3546c2d7",
   "metadata": {},
   "outputs": [],
   "source": [
    "# Evaluate and save results\n",
    "results = evaluate_and_save_results(\n",
    "    model, val_set, X_cols, y_cols, args.output_path, args.exp_name\n",
    ")\n",
    "print(f\"\\nTraining pipeline completed successfully!\")"
   ]
  }
 ],
 "metadata": {
  "kernelspec": {
   "display_name": "Python 3",
   "language": "python",
   "name": "python3"
  },
  "language_info": {
   "codemirror_mode": {
    "name": "ipython",
    "version": 3
   },
   "file_extension": ".py",
   "mimetype": "text/x-python",
   "name": "python",
   "nbconvert_exporter": "python",
   "pygments_lexer": "ipython3",
   "version": "3.11.9"
  }
 },
 "nbformat": 4,
 "nbformat_minor": 5
}
