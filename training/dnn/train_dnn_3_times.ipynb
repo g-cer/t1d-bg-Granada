{
  "cells": [
    {
      "cell_type": "code",
      "execution_count": null,
      "metadata": {},
      "outputs": [],
      "source": [
        "from training.dnn.train_dnn_3_times import *"
      ]
    },
    {
      "cell_type": "code",
      "execution_count": null,
      "metadata": {},
      "outputs": [],
      "source": [
        "# Simulazione degli argomenti per il notebook\n",
        "class Args:\n",
        "    def __init__(self):\n",
        "        self.output_path = \"outputs/val_set\"\n",
        "        self.models_path = \"models/val_set\"\n",
        "        self.exp_name = \"mlp\"  # Cambia qui: \"mlp\", \"lstm\", \"gru\"\n",
        "        self.seed = 42\n",
        "        self.batch_size = 4096\n",
        "        self.epochs = 100\n",
        "        self.lr = 0.01\n",
        "\n",
        "\n",
        "args = Args()\n",
        "\n",
        "# Verifica i parametri\n",
        "print(f\"Configurazione:\")\n",
        "print(f\"  - Model: {args.exp_name}\")\n",
        "print(f\"  - Output path: {args.output_path}\")\n",
        "print(f\"  - Models path: {args.models_path}\")\n",
        "print(f\"  - Seed: {args.seed}\")\n",
        "print(f\"  - Batch size: {args.batch_size}\")\n",
        "print(f\"  - Epochs: {args.epochs}\")\n",
        "print(f\"  - Learning rate: {args.lr}\")"
      ]
    },
    {
      "cell_type": "code",
      "execution_count": null,
      "metadata": {},
      "outputs": [],
      "source": [
        "print(f\"Starting {args.exp_name.upper()} training pipeline with multiple seeds...\")\n",
        "\n",
        "# Setup\n",
        "setup_environment(args)"
      ]
    },
    {
      "cell_type": "code",
      "execution_count": null,
      "metadata": {},
      "outputs": [],
      "source": [
        "print(\"Loading pre-prepared data splits...\")\n",
        "train_set, val_set, test_set, X_cols, y_cols = load_splits()\n",
        "\n",
        "# Prepare data for TensorFlow\n",
        "X_train, X_val, X_test, y_train, y_val, y_test = prepare_data(\n",
        "    train_set, val_set, test_set, X_cols, y_cols, args.exp_name\n",
        ")"
      ]
    },
    {
      "cell_type": "code",
      "execution_count": null,
      "metadata": {},
      "outputs": [],
      "source": [
        "# Define seeds for multiple runs\n",
        "seeds = [args.seed, args.seed + 1, args.seed + 2]\n",
        "\n",
        "best_mae = float(\"inf\")\n",
        "best_model = None\n",
        "best_results = None\n",
        "best_seed = None\n",
        "\n",
        "print(f\"\\n{'='*60}\")\n",
        "print(f\"TRAINING WITH MULTIPLE SEEDS: {seeds}\")\n",
        "print(f\"{'='*60}\")"
      ]
    },
    {
      "cell_type": "code",
      "execution_count": null,
      "metadata": {},
      "outputs": [],
      "source": [
        "# Train with different seeds\n",
        "for i, seed in enumerate(seeds, 1):\n",
        "    print(f\"\\n{'='*40}\")\n",
        "    print(f\"RUN {i}/3 - SEED {seed}\")\n",
        "    print(f\"{'='*40}\")\n",
        "\n",
        "    # Train model\n",
        "    model, history = train(X_train, y_train, X_val, y_val, args, seed)\n",
        "\n",
        "    # Evaluate model\n",
        "    results = evaluate_model(model, args.exp_name, val_set, X_cols, y_cols)\n",
        "\n",
        "    # Calculate MAE\n",
        "    current_mae = calculate_mae(results)\n",
        "    print(f\"\\nSeed {seed} - Patient-based MAE: {current_mae:.4f}\")\n",
        "\n",
        "    # Check if this is the best model so far\n",
        "    if current_mae < best_mae:\n",
        "        best_mae = current_mae\n",
        "        best_model = model\n",
        "        best_results = results\n",
        "        best_seed = seed\n",
        "        print(f\"🏆 New best model found with seed {seed}!\")\n",
        "\n",
        "    print(f\"Current best MAE: {best_mae:.4f} (seed {best_seed})\")"
      ]
    },
    {
      "cell_type": "code",
      "execution_count": null,
      "metadata": {},
      "outputs": [],
      "source": [
        "# Save best model and results\n",
        "print(f\"\\n{'='*60}\")\n",
        "print(f\"SAVING BEST MODEL\")\n",
        "print(f\"{'='*60}\")\n",
        "print(f\"Best model achieved with seed {best_seed}\")\n",
        "print(f\"Best MAE: {best_mae:.4f}\")\n",
        "\n",
        "# Print final results\n",
        "print_results(best_results)"
      ]
    },
    {
      "cell_type": "code",
      "execution_count": null,
      "metadata": {},
      "outputs": [],
      "source": [
        "# Save best model (rename from temporary seed-specific name)\n",
        "import shutil\n",
        "\n",
        "temp_model_path = f\"{args.models_path}/{args.exp_name}_seed_{best_seed}.weights.h5\"\n",
        "final_model_path = f\"{args.models_path}/{args.exp_name}.weights.h5\"\n",
        "\n",
        "if os.path.exists(temp_model_path):\n",
        "    shutil.move(temp_model_path, final_model_path)\n",
        "    print(f\"Best model saved to: {final_model_path}\")\n",
        "\n",
        "    # Clean up other temporary model files\n",
        "    for seed in seeds:\n",
        "        if seed != best_seed:\n",
        "            temp_path = f\"{args.models_path}/{args.exp_name}_seed_{seed}.weights.h5\"\n",
        "            if os.path.exists(temp_path):\n",
        "                os.remove(temp_path)\n",
        "\n",
        "# Save best results\n",
        "output_file = f\"{args.output_path}/{args.exp_name}_output.csv\"\n",
        "best_results.to_csv(output_file, index=False)\n",
        "print(f\"Best results saved to: {output_file}\")\n",
        "\n",
        "print(f\"\\nTraining pipeline completed successfully!\")\n",
        "print(f\"Best model trained with seed {best_seed} (MAE: {best_mae:.4f})\")"
      ]
    }
  ],
  "metadata": {
    "kernelspec": {
      "display_name": "Python 3",
      "language": "python",
      "name": "python3"
    },
    "language_info": {
      "codemirror_mode": {
        "name": "ipython",
        "version": 3
      },
      "file_extension": ".py",
      "mimetype": "text/x-python",
      "name": "python",
      "nbconvert_exporter": "python",
      "pygments_lexer": "ipython3",
      "version": "3.11.9"
    }
  },
  "nbformat": 4,
  "nbformat_minor": 4
}
