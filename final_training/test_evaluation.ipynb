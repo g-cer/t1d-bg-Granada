{
  "cells": [
    {
      "cell_type": "code",
      "execution_count": null,
      "metadata": {},
      "outputs": [],
      "source": [
        "from final_training.test_evaluation import *"
      ]
    },
    {
      "cell_type": "code",
      "execution_count": null,
      "metadata": {},
      "outputs": [],
      "source": [
        "print(\"FINAL TEST SET EVALUATION\")\n",
        "print(\"=\" * 80)\n",
        "print(\"Evaluating XGBoost (with optimal hyperparameters) and GRU on test set\")\n",
        "print(\"=\" * 80)"
      ]
    },
    {
      "cell_type": "code",
      "execution_count": null,
      "metadata": {},
      "outputs": [],
      "source": [
        "# Load data splits\n",
        "print(\"Loading data splits...\")\n",
        "train_set, val_set, test_set, X_cols, y_cols = load_splits()\n",
        "\n",
        "print(f\"Dataset sizes:\")\n",
        "print(f\"  Train set: {len(train_set)} samples\")\n",
        "print(f\"  Val set: {len(val_set)} samples\")\n",
        "print(f\"  Test set: {len(test_set)} samples\")\n",
        "print(f\"  Features: {len(X_cols)}\")\n",
        "print(f\"  Target: {y_cols}\")"
      ]
    },
    {
      "cell_type": "code",
      "execution_count": null,
      "metadata": {},
      "outputs": [],
      "source": [
        "# ===== XGBOOST EVALUATION =====\n",
        "\n",
        "# Load best hyperparameters\n",
        "best_params, best_val_mae = load_best_xgb_params()"
      ]
    },
    {
      "cell_type": "code",
      "execution_count": null,
      "metadata": {},
      "outputs": [],
      "source": [
        "# Train final XGBoost model\n",
        "xgb_model = train_final_xgb_model(train_set, val_set, X_cols, y_cols, best_params)"
      ]
    },
    {
      "cell_type": "code",
      "execution_count": null,
      "metadata": {},
      "outputs": [],
      "source": [
        "# Evaluate XGBoost on test set\n",
        "xgb_results = evaluate_xgb_on_test(xgb_model, test_set, X_cols, y_cols)"
      ]
    },
    {
      "cell_type": "code",
      "execution_count": null,
      "metadata": {},
      "outputs": [],
      "source": [
        "# Save XGBoost model and results\n",
        "save_xgb_model_and_results(xgb_model, xgb_results)"
      ]
    },
    {
      "cell_type": "code",
      "execution_count": null,
      "metadata": {},
      "outputs": [],
      "source": [
        "# ===== GRU EVALUATION =====\n",
        "\n",
        "# Load GRU model\n",
        "gru_model = load_gru_model_weights()"
      ]
    },
    {
      "cell_type": "code",
      "execution_count": null,
      "metadata": {},
      "outputs": [],
      "source": [
        "# Evaluate GRU on test set\n",
        "gru_results = evaluate_gru_on_test(gru_model, test_set, X_cols, y_cols)"
      ]
    },
    {
      "cell_type": "code",
      "execution_count": null,
      "metadata": {},
      "outputs": [],
      "source": [
        "# Save GRU results\n",
        "save_gru_results(gru_results)"
      ]
    },
    {
      "cell_type": "code",
      "execution_count": null,
      "metadata": {},
      "outputs": [],
      "source": [
        "print(\"\\n\" + \"=\" * 80)\n",
        "print(\"EVALUATION COMPLETED SUCCESSFULLY!\")\n",
        "print(\"=\" * 80)\n",
        "print(f\"Models saved in: models/test_set/\")\n",
        "print(f\"Results saved in: outputs/test_set/\")"
      ]
    }
  ],
  "metadata": {
    "kernelspec": {
      "display_name": "Python 3",
      "language": "python",
      "name": "python3"
    },
    "language_info": {
      "codemirror_mode": {
        "name": "ipython",
        "version": 3
      },
      "file_extension": ".py",
      "mimetype": "text/x-python",
      "name": "python",
      "nbconvert_exporter": "python",
      "pygments_lexer": "ipython3",
      "version": "3.11.9"
    }
  },
  "nbformat": 4,
  "nbformat_minor": 4
}
