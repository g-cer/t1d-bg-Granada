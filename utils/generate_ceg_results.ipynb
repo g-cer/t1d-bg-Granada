{
  "cells": [
    {
      "cell_type": "code",
      "execution_count": null,
      "metadata": {},
      "outputs": [],
      "source": [
        "from utils.generate_ceg_results import *"
      ]
    },
    {
      "cell_type": "code",
      "execution_count": null,
      "metadata": {},
      "outputs": [],
      "source": [
        "# Simulazione degli argomenti per il notebook\n",
        "class Args:\n",
        "    def __init__(self):\n",
        "        self.output_path = \"outputs/test_set\"\n",
        "        self.plots_path = \"plots/test_set\"\n",
        "        self.scores_path = \"scores/test_set\"\n",
        "\n",
        "\n",
        "args = Args()\n",
        "\n",
        "# Verifica i parametri\n",
        "print(f\"Configurazione:\")\n",
        "print(f\"  - Output path: {args.output_path}\")\n",
        "print(f\"  - Plots path: {args.plots_path}\")\n",
        "print(f\"  - Scores path: {args.scores_path}\")"
      ]
    },
    {
      "cell_type": "code",
      "execution_count": null,
      "metadata": {},
      "outputs": [],
      "source": [
        "print(\"CLARKE ERROR GRID ANALYSIS FOR MODEL OUTPUTS\")\n",
        "print(\"=\" * 80)\n",
        "\n",
        "# Check if output directory exists\n",
        "if not os.path.exists(args.output_path):\n",
        "    print(f\"❌ Output directory not found: {args.output_path}\")\n",
        "else:\n",
        "    print(f\"✓ Output directory found: {args.output_path}\")"
      ]
    },
    {
      "cell_type": "code",
      "execution_count": null,
      "metadata": {},
      "outputs": [],
      "source": [
        "# Generate Clarke Error Grid plots and statistics\n",
        "generate_clarke_plots_and_stats(\n",
        "    output_path=args.output_path,\n",
        "    plots_path=args.plots_path,\n",
        "    scores_path=args.scores_path,\n",
        ")"
      ]
    }
  ],
  "metadata": {
    "kernelspec": {
      "display_name": "Python 3",
      "language": "python",
      "name": "python3"
    },
    "language_info": {
      "codemirror_mode": {
        "name": "ipython",
        "version": 3
      },
      "file_extension": ".py",
      "mimetype": "text/x-python",
      "name": "python",
      "nbconvert_exporter": "python",
      "pygments_lexer": "ipython3",
      "version": "3.11.9"
    }
  },
  "nbformat": 4,
  "nbformat_minor": 4
}
